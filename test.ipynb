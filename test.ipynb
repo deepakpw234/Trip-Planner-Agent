{
 "cells": [
  {
   "cell_type": "code",
   "execution_count": 1,
   "id": "aa731818",
   "metadata": {},
   "outputs": [],
   "source": [
    "from langchain_openai import ChatOpenAI\n",
    "from langgraph.graph import StateGraph, START, END\n",
    "from langgraph.graph.message import add_messages\n",
    "from langchain.tools import tool\n",
    "from langgraph.prebuilt import ToolNode, tools_condition\n",
    "from langgraph.checkpoint.memory import MemorySaver\n",
    "\n",
    "from amadeus import Client, ResponseError\n",
    "from amadeus import Location\n",
    "\n",
    "from typing import TypedDict\n",
    "from typing import Annotated\n",
    "\n",
    "import requests\n",
    "\n",
    "from dotenv import load_dotenv \n",
    "load_dotenv()\n",
    "\n",
    "import os"
   ]
  },
  {
   "cell_type": "code",
   "execution_count": 2,
   "id": "d2b8eb01",
   "metadata": {},
   "outputs": [],
   "source": [
    "class State(TypedDict):\n",
    "    messages: Annotated[list, add_messages]"
   ]
  },
  {
   "cell_type": "code",
   "execution_count": 3,
   "id": "73c1b4aa",
   "metadata": {},
   "outputs": [],
   "source": [
    "def get_flight_details(originLocation: str, distinationLocation: str, date: str, adults: int):\n",
    "    '''This function provide the details of the flights'''\n",
    "\n",
    "    amadeus_flight = Client()\n",
    "\n",
    "    response = amadeus_flight.shopping.flight_offers_search.get(\n",
    "        originLocationCode=originLocation,\n",
    "        destinationLocationCode=distinationLocation,\n",
    "        departureDate=date,\n",
    "        adults=adults\n",
    "    )\n",
    "\n",
    "    return response.data[0:2]\n",
    "\n",
    "def get_airport_code(city:str):\n",
    "    '''This function provide the airport code based on given city'''\n",
    "\n",
    "    amadues_code = Client()\n",
    "    \n",
    "    code_repoonse = amadues_code.reference_data.locations.get(keyword='LON', subType=Location.ANY)\n",
    "\n",
    "    return code_repoonse\n",
    "\n",
    "\n",
    "def curreny_converter(base_curreny:str, target_currency:str):\n",
    "    '''this function convert curreny from EUR(base currency) to INR(target curreny)'''\n",
    "\n",
    "    url_currency = f\"https://v6.exchangerate-api.com/v6/2daabdcbf5800f70d4db2aef/pair/{base_curreny}/{target_currency}\"\n",
    "\n",
    "    currency_response = requests.get(url=url_currency)\n",
    "    \n",
    "    return currency_response.json()"
   ]
  },
  {
   "cell_type": "code",
   "execution_count": 4,
   "id": "6a7e29c5",
   "metadata": {},
   "outputs": [],
   "source": [
    "llm = ChatOpenAI()\n",
    "\n",
    "tools = [get_flight_details,get_airport_code,curreny_converter]\n",
    "\n",
    "llm_with_tools = llm.bind_tools(tools=tools)"
   ]
  },
  {
   "cell_type": "code",
   "execution_count": 5,
   "id": "8d18f277",
   "metadata": {},
   "outputs": [],
   "source": [
    "def planner_chatbot(state: State):\n",
    "    return {\"messages\": llm_with_tools.invoke(state['messages']) }"
   ]
  },
  {
   "cell_type": "code",
   "execution_count": 6,
   "id": "77731d41",
   "metadata": {},
   "outputs": [],
   "source": [
    "graph_builder = StateGraph(State)\n",
    "\n",
    "graph_builder.add_node('planner_chatbot',planner_chatbot)\n",
    "graph_builder.add_node('tools',ToolNode(tools=tools))\n",
    "\n",
    "graph_builder.add_edge(START,\"planner_chatbot\")\n",
    "graph_builder.add_conditional_edges(\"planner_chatbot\",tools_condition)\n",
    "graph_builder.add_edge(\"tools\",\"planner_chatbot\")\n",
    "\n",
    "memory = MemorySaver()\n",
    "\n",
    "graph = graph_builder.compile(checkpointer=memory)"
   ]
  },
  {
   "cell_type": "code",
   "execution_count": 7,
   "id": "5bcaa84f",
   "metadata": {},
   "outputs": [
    {
     "data": {
      "image/png": "[encoded data removed]",
      "text/plain": [
       "<IPython.core.display.Image object>"
      ]
     },
     "metadata": {},
     "output_type": "display_data"
    }
   ],
   "source": [
    "from IPython.display import display,Image\n",
    "\n",
    "display(Image(graph.get_graph().draw_mermaid_png()))"
   ]
  },
  {
   "cell_type": "code",
   "execution_count": 8,
   "id": "de39fc4e",
   "metadata": {},
   "outputs": [],
   "source": [
    "config = {'configurable':{'thread_id':\"1\"}}"
   ]
  },
  {
   "cell_type": "code",
   "execution_count": 9,
   "id": "72f54bb8",
   "metadata": {},
   "outputs": [
    {
     "name": "stdout",
     "output_type": "stream",
     "text": [
      "================================\u001b[1m Human Message \u001b[0m=================================\n",
      "\n",
      "I want to book flight tickets\n",
      "==================================\u001b[1m Ai Message \u001b[0m==================================\n",
      "\n",
      "Sure, I can help you with that. Could you please provide me with the following details:\n",
      "1. Origin Location\n",
      "2. Destination Location\n",
      "3. Date of Travel\n",
      "4. Number of Adults traveling\n"
     ]
    }
   ],
   "source": [
    "response = graph.invoke({\"messages\":\"I want to book flight tickets\"},config=config)\n",
    "\n",
    "for m in response['messages']:\n",
    "    m.pretty_print()"
   ]
  },
  {
   "cell_type": "code",
   "execution_count": 10,
   "id": "f02fb682",
   "metadata": {},
   "outputs": [
    {
     "data": {
      "text/plain": [
       "[HumanMessage(content='I want to book flight tickets', additional_kwargs={}, response_metadata={}, id='bbe66160-d035-4b6e-9d4d-0a3a75e93801'),\n",
       " AIMessage(content='Sure, I can help you with that. Could you please provide me with the following details:\\n1. Origin Location\\n2. Destination Location\\n3. Date of Travel\\n4. Number of Adults traveling', additional_kwargs={'refusal': None}, response_metadata={'token_usage': {'completion_tokens': 42, 'prompt_tokens': 141, 'total_tokens': 183, 'completion_tokens_details': {'accepted_prediction_tokens': 0, 'audio_tokens': 0, 'reasoning_tokens': 0, 'rejected_prediction_tokens': 0}, 'prompt_tokens_details': {'audio_tokens': 0, 'cached_tokens': 0}}, 'model_name': 'gpt-3.5-turbo-0125', 'system_fingerprint': None, 'id': 'chatcmpl-BlaVtPjq5txDuNoUoMt16IrfSYiZQ', 'service_tier': 'default', 'finish_reason': 'stop', 'logprobs': None}, id='run--3c62f1c9-9489-4dbe-a7ad-6ca5c659c8a3-0', usage_metadata={'input_tokens': 141, 'output_tokens': 42, 'total_tokens': 183, 'input_token_details': {'audio': 0, 'cache_read': 0}, 'output_token_details': {'audio': 0, 'reasoning': 0}})]"
      ]
     },
     "execution_count": 10,
     "metadata": {},
     "output_type": "execute_result"
    }
   ],
   "source": [
    "response['messages']"
   ]
  },
  {
   "cell_type": "code",
   "execution_count": 11,
   "id": "88081e36",
   "metadata": {},
   "outputs": [
    {
     "name": "stdout",
     "output_type": "stream",
     "text": [
      "================================\u001b[1m Human Message \u001b[0m=================================\n",
      "\n",
      "I want to book flight tickets\n",
      "==================================\u001b[1m Ai Message \u001b[0m==================================\n",
      "\n",
      "Sure, I can help you with that. Could you please provide me with the following details:\n",
      "1. Origin Location\n",
      "2. Destination Location\n",
      "3. Date of Travel\n",
      "4. Number of Adults traveling\n",
      "================================\u001b[1m Human Message \u001b[0m=================================\n",
      "\n",
      "i want to book from delhi to mumbai for 7th July 2025\n",
      "==================================\u001b[1m Ai Message \u001b[0m==================================\n",
      "Tool Calls:\n",
      "  get_airport_code (call_HtrzSeE3aEQPfaMhNNZC7GCO)\n",
      " Call ID: call_HtrzSeE3aEQPfaMhNNZC7GCO\n",
      "  Args:\n",
      "    city: Delhi\n",
      "=================================\u001b[1m Tool Message \u001b[0m=================================\n",
      "Name: get_airport_code\n",
      "\n",
      "<amadeus.client.response.Response object at 0x00000198B7D5A500>\n",
      "==================================\u001b[1m Ai Message \u001b[0m==================================\n",
      "Tool Calls:\n",
      "  get_airport_code (call_Gn1RCRftwPIScPUA6HoabrCy)\n",
      " Call ID: call_Gn1RCRftwPIScPUA6HoabrCy\n",
      "  Args:\n",
      "    city: Mumbai\n",
      "=================================\u001b[1m Tool Message \u001b[0m=================================\n",
      "Name: get_airport_code\n",
      "\n",
      "<amadeus.client.response.Response object at 0x00000198B7D5B7F0>\n",
      "==================================\u001b[1m Ai Message \u001b[0m==================================\n",
      "Tool Calls:\n",
      "  get_flight_details (call_QPlxlZR2IbOrnixdwEqOTg57)\n",
      " Call ID: call_QPlxlZR2IbOrnixdwEqOTg57\n",
      "  Args:\n",
      "    originLocation: DEL\n",
      "    distinationLocation: BOM\n",
      "    date: 2025-07-07\n",
      "    adults: 1\n",
      "  curreny_converter (call_FqQazG0tSD2dsCLoXoV3RFKN)\n",
      " Call ID: call_FqQazG0tSD2dsCLoXoV3RFKN\n",
      "  Args:\n",
      "    base_curreny: EUR\n",
      "    target_currency: INR\n",
      "=================================\u001b[1m Tool Message \u001b[0m=================================\n",
      "Name: get_flight_details\n",
      "\n",
      "[{\"type\": \"flight-offer\", \"id\": \"1\", \"source\": \"GDS\", \"instantTicketingRequired\": false, \"nonHomogeneous\": false, \"oneWay\": false, \"isUpsellOffer\": false, \"lastTicketingDate\": \"2025-06-23\", \"lastTicketingDateTime\": \"2025-06-23\", \"numberOfBookableSeats\": 9, \"itineraries\": [{\"duration\": \"PT2H15M\", \"segments\": [{\"departure\": {\"iataCode\": \"DEL\", \"terminal\": \"3\", \"at\": \"2025-07-07T12:35:00\"}, \"arrival\": {\"iataCode\": \"BOM\", \"terminal\": \"2\", \"at\": \"2025-07-07T14:50:00\"}, \"carrierCode\": \"AI\", \"number\": \"2993\", \"aircraft\": {\"code\": \"32N\"}, \"operating\": {\"carrierCode\": \"AI\"}, \"duration\": \"PT2H15M\", \"id\": \"40\", \"numberOfStops\": 0, \"blacklistedInEU\": false}]}], \"price\": {\"currency\": \"EUR\", \"total\": \"62.30\", \"base\": \"53.00\", \"fees\": [{\"amount\": \"0.00\", \"type\": \"SUPPLIER\"}, {\"amount\": \"0.00\", \"type\": \"TICKETING\"}], \"grandTotal\": \"62.30\"}, \"pricingOptions\": {\"fareType\": [\"PUBLISHED\"], \"includedCheckedBagsOnly\": true}, \"validatingAirlineCodes\": [\"AI\"], \"travelerPricings\": [{\"travelerId\": \"1\", \"fareOption\": \"STANDARD\", \"travelerType\": \"ADULT\", \"price\": {\"currency\": \"EUR\", \"total\": \"62.30\", \"base\": \"53.00\"}, \"fareDetailsBySegment\": [{\"segmentId\": \"40\", \"cabin\": \"ECONOMY\", \"fareBasis\": \"UL1YXSII\", \"brandedFare\": \"ECOVALU\", \"brandedFareLabel\": \"ECO VALUE\", \"class\": \"U\", \"includedCheckedBags\": {\"weight\": 15, \"weightUnit\": \"KG\"}, \"includedCabinBags\": {\"weight\": 7, \"weightUnit\": \"KG\"}, \"amenities\": [{\"description\": \"PRE RESERVED SEAT ASSIGNMENT\", \"isChargeable\": false, \"amenityType\": \"PRE_RESERVED_SEAT\", \"amenityProvider\": {\"name\": \"BrandedFare\"}}, {\"description\": \"MEAL SERVICES\", \"isChargeable\": false, \"amenityType\": \"MEAL\", \"amenityProvider\": {\"name\": \"BrandedFare\"}}, {\"description\": \"REFUNDABLE TICKET\", \"isChargeable\": true, \"amenityType\": \"BRANDED_FARES\", \"amenityProvider\": {\"name\": \"BrandedFare\"}}, {\"description\": \"CHANGEABLE TICKET\", \"isChargeable\": true, \"amenityType\": \"BRANDED_FARES\", \"amenityProvider\": {\"name\": \"BrandedFare\"}}, {\"description\": \"UPGRADE\", \"isChargeable\": true, \"amenityType\": \"UPGRADES\", \"amenityProvider\": {\"name\": \"BrandedFare\"}}, {\"description\": \"FREE CHECKED BAGGAGE ALLOWANCE\", \"isChargeable\": false, \"amenityType\": \"BRANDED_FARES\", \"amenityProvider\": {\"name\": \"BrandedFare\"}}]}]}]}, {\"type\": \"flight-offer\", \"id\": \"2\", \"source\": \"GDS\", \"instantTicketingRequired\": false, \"nonHomogeneous\": false, \"oneWay\": false, \"isUpsellOffer\": false, \"lastTicketingDate\": \"2025-06-23\", \"lastTicketingDateTime\": \"2025-06-23\", \"numberOfBookableSeats\": 9, \"itineraries\": [{\"duration\": \"PT2H20M\", \"segments\": [{\"departure\": {\"iataCode\": \"DEL\", \"terminal\": \"3\", \"at\": \"2025-07-07T14:55:00\"}, \"arrival\": {\"iataCode\": \"BOM\", \"terminal\": \"2\", \"at\": \"2025-07-07T17:15:00\"}, \"carrierCode\": \"AI\", \"number\": \"2420\", \"aircraft\": {\"code\": \"32N\"}, \"operating\": {\"carrierCode\": \"AI\"}, \"duration\": \"PT2H20M\", \"id\": \"60\", \"numberOfStops\": 0, \"blacklistedInEU\": false}]}], \"price\": {\"currency\": \"EUR\", \"total\": \"62.30\", \"base\": \"53.00\", \"fees\": [{\"amount\": \"0.00\", \"type\": \"SUPPLIER\"}, {\"amount\": \"0.00\", \"type\": \"TICKETING\"}], \"grandTotal\": \"62.30\"}, \"pricingOptions\": {\"fareType\": [\"PUBLISHED\"], \"includedCheckedBagsOnly\": true}, \"validatingAirlineCodes\": [\"AI\"], \"travelerPricings\": [{\"travelerId\": \"1\", \"fareOption\": \"STANDARD\", \"travelerType\": \"ADULT\", \"price\": {\"currency\": \"EUR\", \"total\": \"62.30\", \"base\": \"53.00\"}, \"fareDetailsBySegment\": [{\"segmentId\": \"60\", \"cabin\": \"ECONOMY\", \"fareBasis\": \"UL1YXSII\", \"brandedFare\": \"ECOVALU\", \"brandedFareLabel\": \"ECO VALUE\", \"class\": \"U\", \"includedCheckedBags\": {\"weight\": 15, \"weightUnit\": \"KG\"}, \"includedCabinBags\": {\"weight\": 7, \"weightUnit\": \"KG\"}, \"amenities\": [{\"description\": \"PRE RESERVED SEAT ASSIGNMENT\", \"isChargeable\": false, \"amenityType\": \"PRE_RESERVED_SEAT\", \"amenityProvider\": {\"name\": \"BrandedFare\"}}, {\"description\": \"MEAL SERVICES\", \"isChargeable\": false, \"amenityType\": \"MEAL\", \"amenityProvider\": {\"name\": \"BrandedFare\"}}, {\"description\": \"REFUNDABLE TICKET\", \"isChargeable\": true, \"amenityType\": \"BRANDED_FARES\", \"amenityProvider\": {\"name\": \"BrandedFare\"}}, {\"description\": \"CHANGEABLE TICKET\", \"isChargeable\": true, \"amenityType\": \"BRANDED_FARES\", \"amenityProvider\": {\"name\": \"BrandedFare\"}}, {\"description\": \"UPGRADE\", \"isChargeable\": true, \"amenityType\": \"UPGRADES\", \"amenityProvider\": {\"name\": \"BrandedFare\"}}, {\"description\": \"FREE CHECKED BAGGAGE ALLOWANCE\", \"isChargeable\": false, \"amenityType\": \"BRANDED_FARES\", \"amenityProvider\": {\"name\": \"BrandedFare\"}}]}]}]}]\n",
      "=================================\u001b[1m Tool Message \u001b[0m=================================\n",
      "Name: curreny_converter\n",
      "\n",
      "{\"result\": \"success\", \"documentation\": \"https://www.exchangerate-api.com/docs\", \"terms_of_use\": \"https://www.exchangerate-api.com/terms\", \"time_last_update_unix\": 1750636801, \"time_last_update_utc\": \"Mon, 23 Jun 2025 00:00:01 +0000\", \"time_next_update_unix\": 1750723201, \"time_next_update_utc\": \"Tue, 24 Jun 2025 00:00:01 +0000\", \"base_code\": \"EUR\", \"target_code\": \"INR\", \"conversion_rate\": 99.6812}\n",
      "==================================\u001b[1m Ai Message \u001b[0m==================================\n",
      "\n",
      "I found some flight options for you from Delhi to Mumbai on 7th July 2025:\n",
      "\n",
      "1. **Flight 1:**\n",
      "   - Airline: Air India (AI)\n",
      "   - Departure: Delhi (DEL) at 12:35\n",
      "   - Arrival: Mumbai (BOM) at 14:50\n",
      "   - Duration: 2 hours and 15 minutes\n",
      "   - Price: 62.30 EUR\n",
      "\n",
      "2. **Flight 2:**\n",
      "   - Airline: Air India (AI)\n",
      "   - Departure: Delhi (DEL) at 14:55\n",
      "   - Arrival: Mumbai (BOM) at 17:15\n",
      "   - Duration: 2 hours and 20 minutes\n",
      "   - Price: 62.30 EUR\n",
      "\n",
      "The conversion rate from EUR to INR is 1 EUR = 99.6812 INR.\n",
      "\n",
      "Would you like to proceed with booking any of these flights?\n"
     ]
    }
   ],
   "source": [
    "response = graph.invoke({\"messages\":\"i want to book from delhi to mumbai for 7th July 2025\"},config=config)\n",
    "\n",
    "for m in response['messages']:\n",
    "    m.pretty_print()"
   ]
  },
  {
   "cell_type": "code",
   "execution_count": 12,
   "id": "c2c141b5",
   "metadata": {},
   "outputs": [
    {
     "data": {
      "text/plain": [
       "[HumanMessage(content='I want to book flight tickets', additional_kwargs={}, response_metadata={}, id='bbe66160-d035-4b6e-9d4d-0a3a75e93801'),\n",
       " AIMessage(content='Sure, I can help you with that. Could you please provide me with the following details:\\n1. Origin Location\\n2. Destination Location\\n3. Date of Travel\\n4. Number of Adults traveling', additional_kwargs={'refusal': None}, response_metadata={'token_usage': {'completion_tokens': 42, 'prompt_tokens': 141, 'total_tokens': 183, 'completion_tokens_details': {'accepted_prediction_tokens': 0, 'audio_tokens': 0, 'reasoning_tokens': 0, 'rejected_prediction_tokens': 0}, 'prompt_tokens_details': {'audio_tokens': 0, 'cached_tokens': 0}}, 'model_name': 'gpt-3.5-turbo-0125', 'system_fingerprint': None, 'id': 'chatcmpl-BlaVtPjq5txDuNoUoMt16IrfSYiZQ', 'service_tier': 'default', 'finish_reason': 'stop', 'logprobs': None}, id='run--3c62f1c9-9489-4dbe-a7ad-6ca5c659c8a3-0', usage_metadata={'input_tokens': 141, 'output_tokens': 42, 'total_tokens': 183, 'input_token_details': {'audio': 0, 'cache_read': 0}, 'output_token_details': {'audio': 0, 'reasoning': 0}}),\n",
       " HumanMessage(content='i want to book from delhi to mumbai for 7th July 2025', additional_kwargs={}, response_metadata={}, id='b890804e-777c-4ded-beb2-6a87a13aa758'),\n",
       " AIMessage(content='', additional_kwargs={'tool_calls': [{'id': 'call_HtrzSeE3aEQPfaMhNNZC7GCO', 'function': {'arguments': '{\"city\":\"Delhi\"}', 'name': 'get_airport_code'}, 'type': 'function'}], 'refusal': None}, response_metadata={'token_usage': {'completion_tokens': 17, 'prompt_tokens': 208, 'total_tokens': 225, 'completion_tokens_details': {'accepted_prediction_tokens': 0, 'audio_tokens': 0, 'reasoning_tokens': 0, 'rejected_prediction_tokens': 0}, 'prompt_tokens_details': {'audio_tokens': 0, 'cached_tokens': 0}}, 'model_name': 'gpt-3.5-turbo-0125', 'system_fingerprint': None, 'id': 'chatcmpl-BlaWvmpZAutY8IFDxEMm8ClktLdsu', 'service_tier': 'default', 'finish_reason': 'tool_calls', 'logprobs': None}, id='run--9112a86d-723a-4d25-9b8e-62e5e5a337fb-0', tool_calls=[{'name': 'get_airport_code', 'args': {'city': 'Delhi'}, 'id': 'call_HtrzSeE3aEQPfaMhNNZC7GCO', 'type': 'tool_call'}], usage_metadata={'input_tokens': 208, 'output_tokens': 17, 'total_tokens': 225, 'input_token_details': {'audio': 0, 'cache_read': 0}, 'output_token_details': {'audio': 0, 'reasoning': 0}}),\n",
       " ToolMessage(content='<amadeus.client.response.Response object at 0x00000198B7D5A500>', name='get_airport_code', id='9db31a4e-0326-4f10-819a-c3e60364d760', tool_call_id='call_HtrzSeE3aEQPfaMhNNZC7GCO'),\n",
       " AIMessage(content='', additional_kwargs={'tool_calls': [{'id': 'call_Gn1RCRftwPIScPUA6HoabrCy', 'function': {'arguments': '{\"city\":\"Mumbai\"}', 'name': 'get_airport_code'}, 'type': 'function'}], 'refusal': None}, response_metadata={'token_usage': {'completion_tokens': 17, 'prompt_tokens': 257, 'total_tokens': 274, 'completion_tokens_details': {'accepted_prediction_tokens': 0, 'audio_tokens': 0, 'reasoning_tokens': 0, 'rejected_prediction_tokens': 0}, 'prompt_tokens_details': {'audio_tokens': 0, 'cached_tokens': 0}}, 'model_name': 'gpt-3.5-turbo-0125', 'system_fingerprint': None, 'id': 'chatcmpl-BlaWyQHA26bJLkLjSf55pxrb3XnXr', 'service_tier': 'default', 'finish_reason': 'tool_calls', 'logprobs': None}, id='run--7de6a00a-dbaa-40bc-b10e-ef37fea9a2cb-0', tool_calls=[{'name': 'get_airport_code', 'args': {'city': 'Mumbai'}, 'id': 'call_Gn1RCRftwPIScPUA6HoabrCy', 'type': 'tool_call'}], usage_metadata={'input_tokens': 257, 'output_tokens': 17, 'total_tokens': 274, 'input_token_details': {'audio': 0, 'cache_read': 0}, 'output_token_details': {'audio': 0, 'reasoning': 0}}),\n",
       " ToolMessage(content='<amadeus.client.response.Response object at 0x00000198B7D5B7F0>', name='get_airport_code', id='fd89e179-647f-49c7-85da-665cb2b46b0e', tool_call_id='call_Gn1RCRftwPIScPUA6HoabrCy'),\n",
       " AIMessage(content='', additional_kwargs={'tool_calls': [{'id': 'call_QPlxlZR2IbOrnixdwEqOTg57', 'function': {'arguments': '{\"originLocation\": \"DEL\", \"distinationLocation\": \"BOM\", \"date\": \"2025-07-07\", \"adults\": 1}', 'name': 'get_flight_details'}, 'type': 'function'}, {'id': 'call_FqQazG0tSD2dsCLoXoV3RFKN', 'function': {'arguments': '{\"base_curreny\": \"EUR\", \"target_currency\": \"INR\"}', 'name': 'curreny_converter'}, 'type': 'function'}], 'refusal': None}, response_metadata={'token_usage': {'completion_tokens': 77, 'prompt_tokens': 308, 'total_tokens': 385, 'completion_tokens_details': {'accepted_prediction_tokens': 0, 'audio_tokens': 0, 'reasoning_tokens': 0, 'rejected_prediction_tokens': 0}, 'prompt_tokens_details': {'audio_tokens': 0, 'cached_tokens': 0}}, 'model_name': 'gpt-3.5-turbo-0125', 'system_fingerprint': None, 'id': 'chatcmpl-BlaX2LLAAiyZD1o9K3VfTmEbWSQOS', 'service_tier': 'default', 'finish_reason': 'tool_calls', 'logprobs': None}, id='run--acab75e4-006d-4df0-9a6a-30a3c7af3d96-0', tool_calls=[{'name': 'get_flight_details', 'args': {'originLocation': 'DEL', 'distinationLocation': 'BOM', 'date': '2025-07-07', 'adults': 1}, 'id': 'call_QPlxlZR2IbOrnixdwEqOTg57', 'type': 'tool_call'}, {'name': 'curreny_converter', 'args': {'base_curreny': 'EUR', 'target_currency': 'INR'}, 'id': 'call_FqQazG0tSD2dsCLoXoV3RFKN', 'type': 'tool_call'}], usage_metadata={'input_tokens': 308, 'output_tokens': 77, 'total_tokens': 385, 'input_token_details': {'audio': 0, 'cache_read': 0}, 'output_token_details': {'audio': 0, 'reasoning': 0}}),\n",
       " ToolMessage(content='[{\"type\": \"flight-offer\", \"id\": \"1\", \"source\": \"GDS\", \"instantTicketingRequired\": false, \"nonHomogeneous\": false, \"oneWay\": false, \"isUpsellOffer\": false, \"lastTicketingDate\": \"2025-06-23\", \"lastTicketingDateTime\": \"2025-06-23\", \"numberOfBookableSeats\": 9, \"itineraries\": [{\"duration\": \"PT2H15M\", \"segments\": [{\"departure\": {\"iataCode\": \"DEL\", \"terminal\": \"3\", \"at\": \"2025-07-07T12:35:00\"}, \"arrival\": {\"iataCode\": \"BOM\", \"terminal\": \"2\", \"at\": \"2025-07-07T14:50:00\"}, \"carrierCode\": \"AI\", \"number\": \"2993\", \"aircraft\": {\"code\": \"32N\"}, \"operating\": {\"carrierCode\": \"AI\"}, \"duration\": \"PT2H15M\", \"id\": \"40\", \"numberOfStops\": 0, \"blacklistedInEU\": false}]}], \"price\": {\"currency\": \"EUR\", \"total\": \"62.30\", \"base\": \"53.00\", \"fees\": [{\"amount\": \"0.00\", \"type\": \"SUPPLIER\"}, {\"amount\": \"0.00\", \"type\": \"TICKETING\"}], \"grandTotal\": \"62.30\"}, \"pricingOptions\": {\"fareType\": [\"PUBLISHED\"], \"includedCheckedBagsOnly\": true}, \"validatingAirlineCodes\": [\"AI\"], \"travelerPricings\": [{\"travelerId\": \"1\", \"fareOption\": \"STANDARD\", \"travelerType\": \"ADULT\", \"price\": {\"currency\": \"EUR\", \"total\": \"62.30\", \"base\": \"53.00\"}, \"fareDetailsBySegment\": [{\"segmentId\": \"40\", \"cabin\": \"ECONOMY\", \"fareBasis\": \"UL1YXSII\", \"brandedFare\": \"ECOVALU\", \"brandedFareLabel\": \"ECO VALUE\", \"class\": \"U\", \"includedCheckedBags\": {\"weight\": 15, \"weightUnit\": \"KG\"}, \"includedCabinBags\": {\"weight\": 7, \"weightUnit\": \"KG\"}, \"amenities\": [{\"description\": \"PRE RESERVED SEAT ASSIGNMENT\", \"isChargeable\": false, \"amenityType\": \"PRE_RESERVED_SEAT\", \"amenityProvider\": {\"name\": \"BrandedFare\"}}, {\"description\": \"MEAL SERVICES\", \"isChargeable\": false, \"amenityType\": \"MEAL\", \"amenityProvider\": {\"name\": \"BrandedFare\"}}, {\"description\": \"REFUNDABLE TICKET\", \"isChargeable\": true, \"amenityType\": \"BRANDED_FARES\", \"amenityProvider\": {\"name\": \"BrandedFare\"}}, {\"description\": \"CHANGEABLE TICKET\", \"isChargeable\": true, \"amenityType\": \"BRANDED_FARES\", \"amenityProvider\": {\"name\": \"BrandedFare\"}}, {\"description\": \"UPGRADE\", \"isChargeable\": true, \"amenityType\": \"UPGRADES\", \"amenityProvider\": {\"name\": \"BrandedFare\"}}, {\"description\": \"FREE CHECKED BAGGAGE ALLOWANCE\", \"isChargeable\": false, \"amenityType\": \"BRANDED_FARES\", \"amenityProvider\": {\"name\": \"BrandedFare\"}}]}]}]}, {\"type\": \"flight-offer\", \"id\": \"2\", \"source\": \"GDS\", \"instantTicketingRequired\": false, \"nonHomogeneous\": false, \"oneWay\": false, \"isUpsellOffer\": false, \"lastTicketingDate\": \"2025-06-23\", \"lastTicketingDateTime\": \"2025-06-23\", \"numberOfBookableSeats\": 9, \"itineraries\": [{\"duration\": \"PT2H20M\", \"segments\": [{\"departure\": {\"iataCode\": \"DEL\", \"terminal\": \"3\", \"at\": \"2025-07-07T14:55:00\"}, \"arrival\": {\"iataCode\": \"BOM\", \"terminal\": \"2\", \"at\": \"2025-07-07T17:15:00\"}, \"carrierCode\": \"AI\", \"number\": \"2420\", \"aircraft\": {\"code\": \"32N\"}, \"operating\": {\"carrierCode\": \"AI\"}, \"duration\": \"PT2H20M\", \"id\": \"60\", \"numberOfStops\": 0, \"blacklistedInEU\": false}]}], \"price\": {\"currency\": \"EUR\", \"total\": \"62.30\", \"base\": \"53.00\", \"fees\": [{\"amount\": \"0.00\", \"type\": \"SUPPLIER\"}, {\"amount\": \"0.00\", \"type\": \"TICKETING\"}], \"grandTotal\": \"62.30\"}, \"pricingOptions\": {\"fareType\": [\"PUBLISHED\"], \"includedCheckedBagsOnly\": true}, \"validatingAirlineCodes\": [\"AI\"], \"travelerPricings\": [{\"travelerId\": \"1\", \"fareOption\": \"STANDARD\", \"travelerType\": \"ADULT\", \"price\": {\"currency\": \"EUR\", \"total\": \"62.30\", \"base\": \"53.00\"}, \"fareDetailsBySegment\": [{\"segmentId\": \"60\", \"cabin\": \"ECONOMY\", \"fareBasis\": \"UL1YXSII\", \"brandedFare\": \"ECOVALU\", \"brandedFareLabel\": \"ECO VALUE\", \"class\": \"U\", \"includedCheckedBags\": {\"weight\": 15, \"weightUnit\": \"KG\"}, \"includedCabinBags\": {\"weight\": 7, \"weightUnit\": \"KG\"}, \"amenities\": [{\"description\": \"PRE RESERVED SEAT ASSIGNMENT\", \"isChargeable\": false, \"amenityType\": \"PRE_RESERVED_SEAT\", \"amenityProvider\": {\"name\": \"BrandedFare\"}}, {\"description\": \"MEAL SERVICES\", \"isChargeable\": false, \"amenityType\": \"MEAL\", \"amenityProvider\": {\"name\": \"BrandedFare\"}}, {\"description\": \"REFUNDABLE TICKET\", \"isChargeable\": true, \"amenityType\": \"BRANDED_FARES\", \"amenityProvider\": {\"name\": \"BrandedFare\"}}, {\"description\": \"CHANGEABLE TICKET\", \"isChargeable\": true, \"amenityType\": \"BRANDED_FARES\", \"amenityProvider\": {\"name\": \"BrandedFare\"}}, {\"description\": \"UPGRADE\", \"isChargeable\": true, \"amenityType\": \"UPGRADES\", \"amenityProvider\": {\"name\": \"BrandedFare\"}}, {\"description\": \"FREE CHECKED BAGGAGE ALLOWANCE\", \"isChargeable\": false, \"amenityType\": \"BRANDED_FARES\", \"amenityProvider\": {\"name\": \"BrandedFare\"}}]}]}]}]', name='get_flight_details', id='d9c02657-a200-4224-aa77-ff0043a5b511', tool_call_id='call_QPlxlZR2IbOrnixdwEqOTg57'),\n",
       " ToolMessage(content='{\"result\": \"success\", \"documentation\": \"https://www.exchangerate-api.com/docs\", \"terms_of_use\": \"https://www.exchangerate-api.com/terms\", \"time_last_update_unix\": 1750636801, \"time_last_update_utc\": \"Mon, 23 Jun 2025 00:00:01 +0000\", \"time_next_update_unix\": 1750723201, \"time_next_update_utc\": \"Tue, 24 Jun 2025 00:00:01 +0000\", \"base_code\": \"EUR\", \"target_code\": \"INR\", \"conversion_rate\": 99.6812}', name='curreny_converter', id='50c2bf65-9a4e-4931-bf20-b1d3e4692ec3', tool_call_id='call_FqQazG0tSD2dsCLoXoV3RFKN'),\n",
       " AIMessage(content='I found some flight options for you from Delhi to Mumbai on 7th July 2025:\\n\\n1. **Flight 1:**\\n   - Airline: Air India (AI)\\n   - Departure: Delhi (DEL) at 12:35\\n   - Arrival: Mumbai (BOM) at 14:50\\n   - Duration: 2 hours and 15 minutes\\n   - Price: 62.30 EUR\\n\\n2. **Flight 2:**\\n   - Airline: Air India (AI)\\n   - Departure: Delhi (DEL) at 14:55\\n   - Arrival: Mumbai (BOM) at 17:15\\n   - Duration: 2 hours and 20 minutes\\n   - Price: 62.30 EUR\\n\\nThe conversion rate from EUR to INR is 1 EUR = 99.6812 INR.\\n\\nWould you like to proceed with booking any of these flights?', additional_kwargs={'refusal': None}, response_metadata={'token_usage': {'completion_tokens': 194, 'prompt_tokens': 2078, 'total_tokens': 2272, 'completion_tokens_details': {'accepted_prediction_tokens': 0, 'audio_tokens': 0, 'reasoning_tokens': 0, 'rejected_prediction_tokens': 0}, 'prompt_tokens_details': {'audio_tokens': 0, 'cached_tokens': 0}}, 'model_name': 'gpt-3.5-turbo-0125', 'system_fingerprint': None, 'id': 'chatcmpl-BlaX9NnXt7pAuUV94qaFmUM6i0gw3', 'service_tier': 'default', 'finish_reason': 'stop', 'logprobs': None}, id='run--1196174b-24d4-4e83-9e42-2b9edf2cc362-0', usage_metadata={'input_tokens': 2078, 'output_tokens': 194, 'total_tokens': 2272, 'input_token_details': {'audio': 0, 'cache_read': 0}, 'output_token_details': {'audio': 0, 'reasoning': 0}})]"
      ]
     },
     "execution_count": 12,
     "metadata": {},
     "output_type": "execute_result"
    }
   ],
   "source": [
    "response['messages']"
   ]
  },
  {
   "cell_type": "code",
   "execution_count": 14,
   "id": "2226798e",
   "metadata": {},
   "outputs": [
    {
     "name": "stdout",
     "output_type": "stream",
     "text": [
      "================================\u001b[1m Human Message \u001b[0m=================================\n",
      "\n",
      "I want to book flight tickets\n",
      "==================================\u001b[1m Ai Message \u001b[0m==================================\n",
      "\n",
      "Sure, I can help you with that. Could you please provide me with the following details:\n",
      "1. Origin Location\n",
      "2. Destination Location\n",
      "3. Date of Travel\n",
      "4. Number of Adults traveling\n",
      "================================\u001b[1m Human Message \u001b[0m=================================\n",
      "\n",
      "i want to book from delhi to mumbai for 7th July 2025\n",
      "==================================\u001b[1m Ai Message \u001b[0m==================================\n",
      "Tool Calls:\n",
      "  get_airport_code (call_HtrzSeE3aEQPfaMhNNZC7GCO)\n",
      " Call ID: call_HtrzSeE3aEQPfaMhNNZC7GCO\n",
      "  Args:\n",
      "    city: Delhi\n",
      "=================================\u001b[1m Tool Message \u001b[0m=================================\n",
      "Name: get_airport_code\n",
      "\n",
      "<amadeus.client.response.Response object at 0x00000198B7D5A500>\n",
      "==================================\u001b[1m Ai Message \u001b[0m==================================\n",
      "Tool Calls:\n",
      "  get_airport_code (call_Gn1RCRftwPIScPUA6HoabrCy)\n",
      " Call ID: call_Gn1RCRftwPIScPUA6HoabrCy\n",
      "  Args:\n",
      "    city: Mumbai\n",
      "=================================\u001b[1m Tool Message \u001b[0m=================================\n",
      "Name: get_airport_code\n",
      "\n",
      "<amadeus.client.response.Response object at 0x00000198B7D5B7F0>\n",
      "==================================\u001b[1m Ai Message \u001b[0m==================================\n",
      "Tool Calls:\n",
      "  get_flight_details (call_QPlxlZR2IbOrnixdwEqOTg57)\n",
      " Call ID: call_QPlxlZR2IbOrnixdwEqOTg57\n",
      "  Args:\n",
      "    originLocation: DEL\n",
      "    distinationLocation: BOM\n",
      "    date: 2025-07-07\n",
      "    adults: 1\n",
      "  curreny_converter (call_FqQazG0tSD2dsCLoXoV3RFKN)\n",
      " Call ID: call_FqQazG0tSD2dsCLoXoV3RFKN\n",
      "  Args:\n",
      "    base_curreny: EUR\n",
      "    target_currency: INR\n",
      "=================================\u001b[1m Tool Message \u001b[0m=================================\n",
      "Name: get_flight_details\n",
      "\n",
      "[{\"type\": \"flight-offer\", \"id\": \"1\", \"source\": \"GDS\", \"instantTicketingRequired\": false, \"nonHomogeneous\": false, \"oneWay\": false, \"isUpsellOffer\": false, \"lastTicketingDate\": \"2025-06-23\", \"lastTicketingDateTime\": \"2025-06-23\", \"numberOfBookableSeats\": 9, \"itineraries\": [{\"duration\": \"PT2H15M\", \"segments\": [{\"departure\": {\"iataCode\": \"DEL\", \"terminal\": \"3\", \"at\": \"2025-07-07T12:35:00\"}, \"arrival\": {\"iataCode\": \"BOM\", \"terminal\": \"2\", \"at\": \"2025-07-07T14:50:00\"}, \"carrierCode\": \"AI\", \"number\": \"2993\", \"aircraft\": {\"code\": \"32N\"}, \"operating\": {\"carrierCode\": \"AI\"}, \"duration\": \"PT2H15M\", \"id\": \"40\", \"numberOfStops\": 0, \"blacklistedInEU\": false}]}], \"price\": {\"currency\": \"EUR\", \"total\": \"62.30\", \"base\": \"53.00\", \"fees\": [{\"amount\": \"0.00\", \"type\": \"SUPPLIER\"}, {\"amount\": \"0.00\", \"type\": \"TICKETING\"}], \"grandTotal\": \"62.30\"}, \"pricingOptions\": {\"fareType\": [\"PUBLISHED\"], \"includedCheckedBagsOnly\": true}, \"validatingAirlineCodes\": [\"AI\"], \"travelerPricings\": [{\"travelerId\": \"1\", \"fareOption\": \"STANDARD\", \"travelerType\": \"ADULT\", \"price\": {\"currency\": \"EUR\", \"total\": \"62.30\", \"base\": \"53.00\"}, \"fareDetailsBySegment\": [{\"segmentId\": \"40\", \"cabin\": \"ECONOMY\", \"fareBasis\": \"UL1YXSII\", \"brandedFare\": \"ECOVALU\", \"brandedFareLabel\": \"ECO VALUE\", \"class\": \"U\", \"includedCheckedBags\": {\"weight\": 15, \"weightUnit\": \"KG\"}, \"includedCabinBags\": {\"weight\": 7, \"weightUnit\": \"KG\"}, \"amenities\": [{\"description\": \"PRE RESERVED SEAT ASSIGNMENT\", \"isChargeable\": false, \"amenityType\": \"PRE_RESERVED_SEAT\", \"amenityProvider\": {\"name\": \"BrandedFare\"}}, {\"description\": \"MEAL SERVICES\", \"isChargeable\": false, \"amenityType\": \"MEAL\", \"amenityProvider\": {\"name\": \"BrandedFare\"}}, {\"description\": \"REFUNDABLE TICKET\", \"isChargeable\": true, \"amenityType\": \"BRANDED_FARES\", \"amenityProvider\": {\"name\": \"BrandedFare\"}}, {\"description\": \"CHANGEABLE TICKET\", \"isChargeable\": true, \"amenityType\": \"BRANDED_FARES\", \"amenityProvider\": {\"name\": \"BrandedFare\"}}, {\"description\": \"UPGRADE\", \"isChargeable\": true, \"amenityType\": \"UPGRADES\", \"amenityProvider\": {\"name\": \"BrandedFare\"}}, {\"description\": \"FREE CHECKED BAGGAGE ALLOWANCE\", \"isChargeable\": false, \"amenityType\": \"BRANDED_FARES\", \"amenityProvider\": {\"name\": \"BrandedFare\"}}]}]}]}, {\"type\": \"flight-offer\", \"id\": \"2\", \"source\": \"GDS\", \"instantTicketingRequired\": false, \"nonHomogeneous\": false, \"oneWay\": false, \"isUpsellOffer\": false, \"lastTicketingDate\": \"2025-06-23\", \"lastTicketingDateTime\": \"2025-06-23\", \"numberOfBookableSeats\": 9, \"itineraries\": [{\"duration\": \"PT2H20M\", \"segments\": [{\"departure\": {\"iataCode\": \"DEL\", \"terminal\": \"3\", \"at\": \"2025-07-07T14:55:00\"}, \"arrival\": {\"iataCode\": \"BOM\", \"terminal\": \"2\", \"at\": \"2025-07-07T17:15:00\"}, \"carrierCode\": \"AI\", \"number\": \"2420\", \"aircraft\": {\"code\": \"32N\"}, \"operating\": {\"carrierCode\": \"AI\"}, \"duration\": \"PT2H20M\", \"id\": \"60\", \"numberOfStops\": 0, \"blacklistedInEU\": false}]}], \"price\": {\"currency\": \"EUR\", \"total\": \"62.30\", \"base\": \"53.00\", \"fees\": [{\"amount\": \"0.00\", \"type\": \"SUPPLIER\"}, {\"amount\": \"0.00\", \"type\": \"TICKETING\"}], \"grandTotal\": \"62.30\"}, \"pricingOptions\": {\"fareType\": [\"PUBLISHED\"], \"includedCheckedBagsOnly\": true}, \"validatingAirlineCodes\": [\"AI\"], \"travelerPricings\": [{\"travelerId\": \"1\", \"fareOption\": \"STANDARD\", \"travelerType\": \"ADULT\", \"price\": {\"currency\": \"EUR\", \"total\": \"62.30\", \"base\": \"53.00\"}, \"fareDetailsBySegment\": [{\"segmentId\": \"60\", \"cabin\": \"ECONOMY\", \"fareBasis\": \"UL1YXSII\", \"brandedFare\": \"ECOVALU\", \"brandedFareLabel\": \"ECO VALUE\", \"class\": \"U\", \"includedCheckedBags\": {\"weight\": 15, \"weightUnit\": \"KG\"}, \"includedCabinBags\": {\"weight\": 7, \"weightUnit\": \"KG\"}, \"amenities\": [{\"description\": \"PRE RESERVED SEAT ASSIGNMENT\", \"isChargeable\": false, \"amenityType\": \"PRE_RESERVED_SEAT\", \"amenityProvider\": {\"name\": \"BrandedFare\"}}, {\"description\": \"MEAL SERVICES\", \"isChargeable\": false, \"amenityType\": \"MEAL\", \"amenityProvider\": {\"name\": \"BrandedFare\"}}, {\"description\": \"REFUNDABLE TICKET\", \"isChargeable\": true, \"amenityType\": \"BRANDED_FARES\", \"amenityProvider\": {\"name\": \"BrandedFare\"}}, {\"description\": \"CHANGEABLE TICKET\", \"isChargeable\": true, \"amenityType\": \"BRANDED_FARES\", \"amenityProvider\": {\"name\": \"BrandedFare\"}}, {\"description\": \"UPGRADE\", \"isChargeable\": true, \"amenityType\": \"UPGRADES\", \"amenityProvider\": {\"name\": \"BrandedFare\"}}, {\"description\": \"FREE CHECKED BAGGAGE ALLOWANCE\", \"isChargeable\": false, \"amenityType\": \"BRANDED_FARES\", \"amenityProvider\": {\"name\": \"BrandedFare\"}}]}]}]}]\n",
      "=================================\u001b[1m Tool Message \u001b[0m=================================\n",
      "Name: curreny_converter\n",
      "\n",
      "{\"result\": \"success\", \"documentation\": \"https://www.exchangerate-api.com/docs\", \"terms_of_use\": \"https://www.exchangerate-api.com/terms\", \"time_last_update_unix\": 1750636801, \"time_last_update_utc\": \"Mon, 23 Jun 2025 00:00:01 +0000\", \"time_next_update_unix\": 1750723201, \"time_next_update_utc\": \"Tue, 24 Jun 2025 00:00:01 +0000\", \"base_code\": \"EUR\", \"target_code\": \"INR\", \"conversion_rate\": 99.6812}\n",
      "==================================\u001b[1m Ai Message \u001b[0m==================================\n",
      "\n",
      "I found some flight options for you from Delhi to Mumbai on 7th July 2025:\n",
      "\n",
      "1. **Flight 1:**\n",
      "   - Airline: Air India (AI)\n",
      "   - Departure: Delhi (DEL) at 12:35\n",
      "   - Arrival: Mumbai (BOM) at 14:50\n",
      "   - Duration: 2 hours and 15 minutes\n",
      "   - Price: 62.30 EUR\n",
      "\n",
      "2. **Flight 2:**\n",
      "   - Airline: Air India (AI)\n",
      "   - Departure: Delhi (DEL) at 14:55\n",
      "   - Arrival: Mumbai (BOM) at 17:15\n",
      "   - Duration: 2 hours and 20 minutes\n",
      "   - Price: 62.30 EUR\n",
      "\n",
      "The conversion rate from EUR to INR is 1 EUR = 99.6812 INR.\n",
      "\n",
      "Would you like to proceed with booking any of these flights?\n",
      "================================\u001b[1m Human Message \u001b[0m=================================\n",
      "\n",
      "I want to book flight number 1\n",
      "==================================\u001b[1m Ai Message \u001b[0m==================================\n",
      "\n",
      "Great choice! I will proceed with booking flight number 1 for you. Let me complete the booking process for you.\n",
      "The booking process is not within the scope of this environment. Please visit the airline's website or contact their customer service to book the flight. If you need any further assistance or information, feel free to ask.\n",
      "================================\u001b[1m Human Message \u001b[0m=================================\n",
      "\n",
      "I want to book flight number 1\n",
      "==================================\u001b[1m Ai Message \u001b[0m==================================\n",
      "\n",
      "Great choice! I will proceed with booking flight number 1 for you. Let me complete the booking process for you.\n"
     ]
    }
   ],
   "source": [
    "response = graph.invoke({\"messages\":\"I want to book flight number 1\"},config=config)\n",
    "\n",
    "for m in response['messages']:\n",
    "    m.pretty_print()"
   ]
  },
  {
   "cell_type": "code",
   "execution_count": null,
   "id": "0ca6bc6f",
   "metadata": {},
   "outputs": [],
   "source": []
  }
 ],
 "metadata": {
  "kernelspec": {
   "display_name": "Python 3",
   "language": "python",
   "name": "python3"
  },
  "language_info": {
   "codemirror_mode": {
    "name": "ipython",
    "version": 3
   },
   "file_extension": ".py",
   "mimetype": "text/x-python",
   "name": "python",
   "nbconvert_exporter": "python",
   "pygments_lexer": "ipython3",
   "version": "3.10.0"
  }
 },
 "nbformat": 4,
 "nbformat_minor": 5
}
